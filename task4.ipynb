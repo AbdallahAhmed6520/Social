{
 "cells": [
  {
   "cell_type": "code",
   "execution_count": 1,
   "metadata": {},
   "outputs": [],
   "source": [
    "import networkx as nx\n",
    "%matplotlib inline\n"
   ]
  },
  {
   "cell_type": "code",
   "execution_count": 2,
   "metadata": {},
   "outputs": [
    {
     "name": "stdout",
     "output_type": "stream",
     "text": [
      "Graph with 143 nodes and 623 edges\n"
     ]
    },
    {
     "data": {
      "image/png": "[encoded data removed]",
      "text/plain": [
       "<Figure size 432x288 with 1 Axes>"
      ]
     },
     "metadata": {},
     "output_type": "display_data"
    }
   ],
   "source": [
    "G = nx.read_edgelist(\n",
    "    '../datasets/ia-enron-only/ia-enron-only.edges', nodetype=int)\n",
    "print(nx.info(G))\n",
    "nx.draw(G)\n"
   ]
  },
  {
   "cell_type": "code",
   "execution_count": 3,
   "metadata": {},
   "outputs": [
    {
     "data": {
      "text/plain": [
       "5"
      ]
     },
     "execution_count": 3,
     "metadata": {},
     "output_type": "execute_result"
    }
   ],
   "source": [
    "max([1,2,3,4,5])"
   ]
  },
  {
   "cell_type": "code",
   "execution_count": 4,
   "metadata": {},
   "outputs": [
    {
     "data": {
      "text/plain": [
       "'grape'"
      ]
     },
     "execution_count": 4,
     "metadata": {},
     "output_type": "execute_result"
    }
   ],
   "source": [
    "max(['apple', 'grape', 'carrot'])\n"
   ]
  },
  {
   "cell_type": "code",
   "execution_count": 5,
   "metadata": {},
   "outputs": [
    {
     "data": {
      "text/plain": [
       "'carrot'"
      ]
     },
     "execution_count": 5,
     "metadata": {},
     "output_type": "execute_result"
    }
   ],
   "source": [
    "max(['apple', 'grape', 'carrot'], key=len)\n"
   ]
  },
  {
   "cell_type": "code",
   "execution_count": 6,
   "metadata": {},
   "outputs": [
    {
     "data": {
      "text/plain": [
       "105"
      ]
     },
     "execution_count": 6,
     "metadata": {},
     "output_type": "execute_result"
    }
   ],
   "source": [
    "highest_degree_node = max(G.nodes, key=G.degree)\n",
    "highest_degree_node\n"
   ]
  },
  {
   "cell_type": "code",
   "execution_count": 7,
   "metadata": {},
   "outputs": [
    {
     "data": {
      "text/plain": [
       "42"
      ]
     },
     "execution_count": 7,
     "metadata": {},
     "output_type": "execute_result"
    }
   ],
   "source": [
    "G.degree(highest_degree_node)\n"
   ]
  },
  {
   "cell_type": "code",
   "execution_count": 8,
   "metadata": {},
   "outputs": [
    {
     "data": {
      "text/plain": [
       "105"
      ]
     },
     "execution_count": 8,
     "metadata": {},
     "output_type": "execute_result"
    }
   ],
   "source": [
    "betweenness = nx.centrality.betweenness_centrality(G)\n",
    "highest_betweenness_node = max(G.nodes, key=betweenness.get)\n",
    "highest_betweenness_node\n"
   ]
  },
  {
   "cell_type": "code",
   "execution_count": 9,
   "metadata": {},
   "outputs": [
    {
     "data": {
      "text/plain": [
       "0.19400604344556296"
      ]
     },
     "execution_count": 9,
     "metadata": {},
     "output_type": "execute_result"
    }
   ],
   "source": [
    "betweenness[highest_betweenness_node]\n"
   ]
  },
  {
   "cell_type": "code",
   "execution_count": 18,
   "metadata": {},
   "outputs": [
    {
     "data": {
      "text/plain": [
       "{17: 0.11088210445609471,\n",
       " 1: 0.0003340978665026238,\n",
       " 72: 0.05833907970763193,\n",
       " 3: 0.0006787989625523211,\n",
       " 2: 0.0037576779169544673,\n",
       " 19: 0.006984623939369158,\n",
       " 20: 0.007284328058569526,\n",
       " 27: 0.0018837796140877582,\n",
       " 29: 0.001006133922375674,\n",
       " 31: 0.027382413977465946,\n",
       " 48: 0.09673142009207425,\n",
       " 65: 0.01031965845801162,\n",
       " 67: 0.019201963242365488,\n",
       " 69: 0.010145969253844544,\n",
       " 71: 0.00039806044732766275,\n",
       " 132: 0.04775121164257601,\n",
       " 136: 0.01173876185899926,\n",
       " 4: 0.0012489175342937358,\n",
       " 28: 0.0013102886582118957,\n",
       " 54: 0.0,\n",
       " 22: 0.05846852533268458,\n",
       " 5: 0.0,\n",
       " 9: 0.010460021309673101,\n",
       " 6: 0.0022068940050096633,\n",
       " 13: 0.003449550878294903,\n",
       " 16: 0.005298508843627979,\n",
       " 26: 0.009720604361990017,\n",
       " 47: 0.028023273711078975,\n",
       " 49: 0.0014988074227315087,\n",
       " 64: 0.011408916322947925,\n",
       " 66: 0.005613645637378239,\n",
       " 105: 0.19400604344556296,\n",
       " 11: 0.003336611317429915,\n",
       " 7: 0.0011139541749508963,\n",
       " 12: 0.0006665350834047873,\n",
       " 24: 0.0033788239600489284,\n",
       " 74: 0.05162886109956878,\n",
       " 75: 0.018855939162481756,\n",
       " 112: 0.026793162429957114,\n",
       " 8: 0.0,\n",
       " 124: 0.04791015883152598,\n",
       " 51: 0.05199434696409222,\n",
       " 56: 0.010002373833850126,\n",
       " 78: 0.008301198521822175,\n",
       " 91: 0.09118959870866389,\n",
       " 139: 0.0028987738243181076,\n",
       " 10: 0.00844200385246708,\n",
       " 21: 0.0024224926100017705,\n",
       " 37: 0.032010310304607284,\n",
       " 53: 0.018768148956951093,\n",
       " 70: 0.002704658169534576,\n",
       " 122: 0.021898597174943257,\n",
       " 32: 0.08554735598477585,\n",
       " 137: 0.00875365629196264,\n",
       " 14: 0.002496764268690474,\n",
       " 50: 0.01111415235505145,\n",
       " 68: 0.018021160422155735,\n",
       " 73: 0.0012139538962161215,\n",
       " 85: 0.034868744140638494,\n",
       " 15: 0.0,\n",
       " 107: 0.009651491020065496,\n",
       " 25: 4.5782972064062866e-05,\n",
       " 36: 0.004815698666947979,\n",
       " 39: 0.0037492834763570323,\n",
       " 40: 0.0011622498297897048,\n",
       " 41: 0.005864630855549761,\n",
       " 43: 0.035249361330365624,\n",
       " 55: 0.0012906206788524475,\n",
       " 58: 0.004435810355648623,\n",
       " 60: 0.013570462722626154,\n",
       " 61: 0.0007760514644119145,\n",
       " 76: 0.011566160108717681,\n",
       " 82: 0.016775815027792136,\n",
       " 95: 0.07579595400584722,\n",
       " 101: 0.011501533451792206,\n",
       " 104: 0.0035512019134078853,\n",
       " 115: 0.022135149190262354,\n",
       " 121: 0.016240304213071,\n",
       " 128: 0.009625064134122712,\n",
       " 18: 0.001957705643323568,\n",
       " 83: 0.0017300395936642734,\n",
       " 38: 0.002502841640589965,\n",
       " 111: 0.02074739452378218,\n",
       " 126: 0.022110204099247768,\n",
       " 140: 8.696782745329345e-05,\n",
       " 33: 0.00037458795325142344,\n",
       " 23: 0.0066410523392475985,\n",
       " 87: 0.00010321979156261445,\n",
       " 120: 0.05129496432020613,\n",
       " 123: 0.011542097137318989,\n",
       " 30: 0.0018087569231376081,\n",
       " 44: 0.0037900757151725054,\n",
       " 134: 0.033607235837032144,\n",
       " 103: 0.0018972366037925035,\n",
       " 141: 0.06345441275176905,\n",
       " 34: 0.02796923384277295,\n",
       " 81: 0.014084507042253521,\n",
       " 35: 0.0034708551406174805,\n",
       " 77: 0.010183256088017826,\n",
       " 119: 0.0007267824591399565,\n",
       " 125: 0.0049051351231164785,\n",
       " 89: 6.992308460693237e-05,\n",
       " 100: 0.015779038951957272,\n",
       " 59: 0.0006302120502459209,\n",
       " 42: 0.0,\n",
       " 52: 0.0,\n",
       " 90: 0.008984341394134088,\n",
       " 99: 0.008376590587268876,\n",
       " 109: 0.006704551514868034,\n",
       " 117: 0.0020029014569958345,\n",
       " 142: 0.006693212934000301,\n",
       " 45: 0.00017766322759709348,\n",
       " 118: 0.02021949744955988,\n",
       " 46: 0.000159665637639866,\n",
       " 108: 0.0018455432216490713,\n",
       " 131: 0.00012071359089638981,\n",
       " 143: 0.001985513962441096,\n",
       " 94: 0.0035876115963152312,\n",
       " 130: 0.04078777833012731,\n",
       " 57: 0.002624693756056721,\n",
       " 63: 0.0,\n",
       " 102: 0.010345357955410625,\n",
       " 62: 0.0,\n",
       " 79: 0.0007797915215545294,\n",
       " 135: 0.0,\n",
       " 114: 0.0002361838750723777,\n",
       " 97: 0.00040780078798892535,\n",
       " 80: 0.0,\n",
       " 116: 0.0025676306866304582,\n",
       " 86: 0.0037067535187410225,\n",
       " 84: 5.3274731129091336e-05,\n",
       " 127: 0.0,\n",
       " 113: 0.0,\n",
       " 129: 0.005282713144711013,\n",
       " 133: 0.0,\n",
       " 88: 0.0,\n",
       " 92: 0.0,\n",
       " 93: 0.0,\n",
       " 96: 0.0011010975949543526,\n",
       " 98: 0.0,\n",
       " 110: 0.002097269462546865,\n",
       " 106: 0.0009206727761209136,\n",
       " 138: 0.0}"
      ]
     },
     "execution_count": 18,
     "metadata": {},
     "output_type": "execute_result"
    }
   ],
   "source": [
    "betweenness\n"
   ]
  },
  {
   "cell_type": "code",
   "execution_count": 10,
   "metadata": {},
   "outputs": [
    {
     "ename": "TypeError",
     "evalue": "'dict' object is not callable",
     "output_type": "error",
     "traceback": [
      "\u001b[1;31m---------------------------------------------------------------------------\u001b[0m",
      "\u001b[1;31mTypeError\u001b[0m                                 Traceback (most recent call last)",
      "\u001b[1;32mC:\\Users\\ELECTR~1\\AppData\\Local\\Temp/ipykernel_16756/2665473834.py\u001b[0m in \u001b[0;36m<module>\u001b[1;34m\u001b[0m\n\u001b[1;32m----> 1\u001b[1;33m \u001b[0mmax\u001b[0m\u001b[1;33m(\u001b[0m\u001b[0mG\u001b[0m\u001b[1;33m.\u001b[0m\u001b[0mnodes\u001b[0m\u001b[1;33m,\u001b[0m \u001b[0mkey\u001b[0m\u001b[1;33m=\u001b[0m\u001b[0mbetweenness\u001b[0m\u001b[1;33m)\u001b[0m\u001b[1;33m\u001b[0m\u001b[1;33m\u001b[0m\u001b[0m\n\u001b[0m",
      "\u001b[1;31mTypeError\u001b[0m: 'dict' object is not callable"
     ]
    }
   ],
   "source": [
    "max(G.nodes, key=betweenness)\n"
   ]
  },
  {
   "cell_type": "code",
   "execution_count": 12,
   "metadata": {},
   "outputs": [],
   "source": [
    "degree_sequence = [G.degree(n) for n in G.nodes]\n"
   ]
  },
  {
   "cell_type": "code",
   "execution_count": 13,
   "metadata": {},
   "outputs": [
    {
     "name": "stdout",
     "output_type": "stream",
     "text": [
      "Mean degree: 8.713286713286713\n",
      "Median degree: 8\n"
     ]
    }
   ],
   "source": [
    "import statistics\n",
    "\n",
    "print('Mean degree:', statistics.mean(degree_sequence))\n",
    "print('Median degree:', statistics.median(degree_sequence))\n"
   ]
  },
  {
   "cell_type": "code",
   "execution_count": 14,
   "metadata": {},
   "outputs": [
    {
     "name": "stdout",
     "output_type": "stream",
     "text": [
      "Mean betweenness: 0.013950388838012454\n",
      "Median betweenness: 0.0037492834763570323\n"
     ]
    }
   ],
   "source": [
    "betweenness = nx.centrality.betweenness_centrality(G)\n",
    "betweenness_sequence = list(betweenness.values())\n",
    "\n",
    "print('Mean betweenness:', statistics.mean(betweenness_sequence))\n",
    "print('Median betweenness:', statistics.median(betweenness_sequence))\n"
   ]
  },
  {
   "cell_type": "code",
   "execution_count": 15,
   "metadata": {},
   "outputs": [
    {
     "data": {
      "text/plain": [
       "Counter({30: 1,\n",
       "         2: 16,\n",
       "         17: 5,\n",
       "         12: 5,\n",
       "         13: 3,\n",
       "         16: 5,\n",
       "         10: 9,\n",
       "         11: 10,\n",
       "         18: 3,\n",
       "         20: 1,\n",
       "         15: 3,\n",
       "         19: 2,\n",
       "         7: 9,\n",
       "         14: 6,\n",
       "         9: 16,\n",
       "         42: 1,\n",
       "         8: 6,\n",
       "         5: 8,\n",
       "         6: 7,\n",
       "         1: 6,\n",
       "         4: 11,\n",
       "         23: 1,\n",
       "         3: 9})"
      ]
     },
     "execution_count": 15,
     "metadata": {},
     "output_type": "execute_result"
    }
   ],
   "source": [
    "from collections import Counter\n",
    "\n",
    "degree_counts = Counter(degree_sequence)\n",
    "degree_counts\n"
   ]
  },
  {
   "cell_type": "code",
   "execution_count": 19,
   "metadata": {},
   "outputs": [],
   "source": [
    "min_degree, max_degree = min(degree_counts.keys()), max(degree_counts.keys())\n",
    "\n",
    "plot_x = list(range(min_degree, max_degree + 1))\n"
   ]
  },
  {
   "cell_type": "code",
   "execution_count": 20,
   "metadata": {},
   "outputs": [],
   "source": [
    "plot_y = [degree_counts.get(x, 0) for x in plot_x]\n"
   ]
  },
  {
   "cell_type": "code",
   "execution_count": 21,
   "metadata": {},
   "outputs": [
    {
     "data": {
      "text/plain": [
       "<BarContainer object of 42 artists>"
      ]
     },
     "execution_count": 21,
     "metadata": {},
     "output_type": "execute_result"
    },
    {
     "data": {
      "image/png": "[encoded data removed]",
      "text/plain": [
       "<Figure size 432x288 with 1 Axes>"
      ]
     },
     "metadata": {
      "needs_background": "light"
     },
     "output_type": "display_data"
    }
   ],
   "source": [
    "import matplotlib.pyplot as plt\n",
    "\n",
    "plt.bar(plot_x, plot_y)\n"
   ]
  },
  {
   "cell_type": "code",
   "execution_count": 22,
   "metadata": {},
   "outputs": [
    {
     "data": {
      "image/png": "[encoded data removed]",
      "text/plain": [
       "<Figure size 432x288 with 1 Axes>"
      ]
     },
     "metadata": {
      "needs_background": "light"
     },
     "output_type": "display_data"
    }
   ],
   "source": [
    "counts, bins, patches = plt.hist(betweenness_sequence, bins=10)\n"
   ]
  },
  {
   "cell_type": "code",
   "execution_count": 23,
   "metadata": {},
   "outputs": [
    {
     "data": {
      "text/plain": [
       "array([0.        , 0.0194006 , 0.03880121, 0.05820181, 0.07760242,\n",
       "       0.09700302, 0.11640363, 0.13580423, 0.15520483, 0.17460544,\n",
       "       0.19400604])"
      ]
     },
     "execution_count": 23,
     "metadata": {},
     "output_type": "execute_result"
    }
   ],
   "source": [
    "bins\n"
   ]
  },
  {
   "cell_type": "code",
   "execution_count": 24,
   "metadata": {},
   "outputs": [
    {
     "data": {
      "text/plain": [
       "array([115.,  13.,   6.,   4.,   3.,   1.,   0.,   0.,   0.,   1.])"
      ]
     },
     "execution_count": 24,
     "metadata": {},
     "output_type": "execute_result"
    }
   ],
   "source": [
    "counts\n"
   ]
  },
  {
   "cell_type": "code",
   "execution_count": 25,
   "metadata": {},
   "outputs": [
    {
     "data": {
      "text/plain": [
       "<generator object connected_components at 0x0000019CFBE68F20>"
      ]
     },
     "execution_count": 25,
     "metadata": {},
     "output_type": "execute_result"
    }
   ],
   "source": [
    "nx.connected_components(G)\n"
   ]
  },
  {
   "cell_type": "code",
   "execution_count": 26,
   "metadata": {},
   "outputs": [
    {
     "data": {
      "text/plain": [
       "{1,\n",
       " 2,\n",
       " 3,\n",
       " 4,\n",
       " 5,\n",
       " 6,\n",
       " 7,\n",
       " 8,\n",
       " 9,\n",
       " 10,\n",
       " 11,\n",
       " 12,\n",
       " 13,\n",
       " 14,\n",
       " 15,\n",
       " 16,\n",
       " 17,\n",
       " 18,\n",
       " 19,\n",
       " 20,\n",
       " 21,\n",
       " 22,\n",
       " 23,\n",
       " 24,\n",
       " 25,\n",
       " 26,\n",
       " 27,\n",
       " 28,\n",
       " 29,\n",
       " 30,\n",
       " 31,\n",
       " 32,\n",
       " 33,\n",
       " 34,\n",
       " 35,\n",
       " 36,\n",
       " 37,\n",
       " 38,\n",
       " 39,\n",
       " 40,\n",
       " 41,\n",
       " 42,\n",
       " 43,\n",
       " 44,\n",
       " 45,\n",
       " 46,\n",
       " 47,\n",
       " 48,\n",
       " 49,\n",
       " 50,\n",
       " 51,\n",
       " 52,\n",
       " 53,\n",
       " 54,\n",
       " 55,\n",
       " 56,\n",
       " 57,\n",
       " 58,\n",
       " 59,\n",
       " 60,\n",
       " 61,\n",
       " 62,\n",
       " 63,\n",
       " 64,\n",
       " 65,\n",
       " 66,\n",
       " 67,\n",
       " 68,\n",
       " 69,\n",
       " 70,\n",
       " 71,\n",
       " 72,\n",
       " 73,\n",
       " 74,\n",
       " 75,\n",
       " 76,\n",
       " 77,\n",
       " 78,\n",
       " 79,\n",
       " 80,\n",
       " 81,\n",
       " 82,\n",
       " 83,\n",
       " 84,\n",
       " 85,\n",
       " 86,\n",
       " 87,\n",
       " 88,\n",
       " 89,\n",
       " 90,\n",
       " 91,\n",
       " 92,\n",
       " 93,\n",
       " 94,\n",
       " 95,\n",
       " 96,\n",
       " 97,\n",
       " 98,\n",
       " 99,\n",
       " 100,\n",
       " 101,\n",
       " 102,\n",
       " 103,\n",
       " 104,\n",
       " 105,\n",
       " 106,\n",
       " 107,\n",
       " 108,\n",
       " 109,\n",
       " 110,\n",
       " 111,\n",
       " 112,\n",
       " 113,\n",
       " 114,\n",
       " 115,\n",
       " 116,\n",
       " 117,\n",
       " 118,\n",
       " 119,\n",
       " 120,\n",
       " 121,\n",
       " 122,\n",
       " 123,\n",
       " 124,\n",
       " 125,\n",
       " 126,\n",
       " 127,\n",
       " 128,\n",
       " 129,\n",
       " 130,\n",
       " 131,\n",
       " 132,\n",
       " 133,\n",
       " 134,\n",
       " 135,\n",
       " 136,\n",
       " 137,\n",
       " 138,\n",
       " 139,\n",
       " 140,\n",
       " 141,\n",
       " 142,\n",
       " 143}"
      ]
     },
     "execution_count": 26,
     "metadata": {},
     "output_type": "execute_result"
    }
   ],
   "source": [
    "core = next(nx.connected_components(G))\n",
    "core\n"
   ]
  },
  {
   "cell_type": "code",
   "execution_count": 27,
   "metadata": {},
   "outputs": [
    {
     "data": {
      "text/plain": [
       "143"
      ]
     },
     "execution_count": 27,
     "metadata": {},
     "output_type": "execute_result"
    }
   ],
   "source": [
    "len(core)\n"
   ]
  },
  {
   "cell_type": "code",
   "execution_count": 28,
   "metadata": {},
   "outputs": [],
   "source": [
    "components = list(nx.connected_components(G))\n"
   ]
  },
  {
   "cell_type": "code",
   "execution_count": 29,
   "metadata": {},
   "outputs": [
    {
     "data": {
      "text/plain": [
       "1"
      ]
     },
     "execution_count": 29,
     "metadata": {},
     "output_type": "execute_result"
    }
   ],
   "source": [
    "len(components)\n"
   ]
  },
  {
   "cell_type": "code",
   "execution_count": 30,
   "metadata": {},
   "outputs": [],
   "source": [
    "C = G.copy()\n"
   ]
  },
  {
   "cell_type": "code",
   "execution_count": 31,
   "metadata": {},
   "outputs": [],
   "source": [
    "import random\n",
    "\n",
    "nodes_to_remove = random.sample(list(C.nodes), 2)\n",
    "C.remove_nodes_from(nodes_to_remove)\n"
   ]
  },
  {
   "cell_type": "code",
   "execution_count": 32,
   "metadata": {},
   "outputs": [
    {
     "data": {
      "text/plain": [
       "5"
      ]
     },
     "execution_count": 32,
     "metadata": {},
     "output_type": "execute_result"
    }
   ],
   "source": [
    "number_of_steps = 25\n",
    "M = G.number_of_nodes() // number_of_steps\n",
    "M\n"
   ]
  },
  {
   "cell_type": "code",
   "execution_count": 33,
   "metadata": {},
   "outputs": [],
   "source": [
    "num_nodes_removed = range(0, G.number_of_nodes(), M)\n"
   ]
  },
  {
   "cell_type": "code",
   "execution_count": 34,
   "metadata": {},
   "outputs": [],
   "source": [
    "N = G.number_of_nodes()\n",
    "C = G.copy()\n",
    "random_attack_core_proportions = []\n",
    "for nodes_removed in num_nodes_removed:\n",
    "    # Measure the relative size of the network core\n",
    "    core = next(nx.connected_components(C))\n",
    "    core_proportion = len(core) / N\n",
    "    random_attack_core_proportions.append(core_proportion)\n",
    "\n",
    "    # If there are more than M nodes, select M nodes at random and remove them\n",
    "    if C.number_of_nodes() > M:\n",
    "        nodes_to_remove = random.sample(list(C.nodes), M)\n",
    "        C.remove_nodes_from(nodes_to_remove)\n"
   ]
  },
  {
   "cell_type": "code",
   "execution_count": 35,
   "metadata": {},
   "outputs": [
    {
     "data": {
      "text/plain": [
       "[<matplotlib.lines.Line2D at 0x19cfc0153d0>]"
      ]
     },
     "execution_count": 35,
     "metadata": {},
     "output_type": "execute_result"
    },
    {
     "data": {
      "image/png": "[encoded data removed]",
      "text/plain": [
       "<Figure size 432x288 with 1 Axes>"
      ]
     },
     "metadata": {
      "needs_background": "light"
     },
     "output_type": "display_data"
    }
   ],
   "source": [
    "plt.title('Random failure')\n",
    "plt.xlabel('Number of nodes removed')\n",
    "plt.ylabel('Proportion of nodes in core')\n",
    "plt.plot(num_nodes_removed, random_attack_core_proportions, marker='o')\n"
   ]
  },
  {
   "cell_type": "code",
   "execution_count": 36,
   "metadata": {},
   "outputs": [
    {
     "data": {
      "text/plain": [
       "[105, 17, 95, 48, 132]"
      ]
     },
     "execution_count": 36,
     "metadata": {},
     "output_type": "execute_result"
    }
   ],
   "source": [
    "nodes_sorted_by_degree = sorted(G.nodes, key=G.degree, reverse=True)\n",
    "top_degree_nodes = nodes_sorted_by_degree[:M]\n",
    "top_degree_nodes\n"
   ]
  },
  {
   "cell_type": "code",
   "execution_count": 37,
   "metadata": {},
   "outputs": [],
   "source": [
    "N = G.number_of_nodes()\n",
    "number_of_steps = 25\n",
    "M = N // number_of_steps\n",
    "\n",
    "num_nodes_removed = range(0, N, M)\n",
    "C = G.copy()\n",
    "targeted_attack_core_proportions = []\n",
    "for nodes_removed in num_nodes_removed:\n",
    "    # Measure the relative size of the network core\n",
    "    core = next(nx.connected_components(C))\n",
    "    core_proportion = len(core) / N\n",
    "    targeted_attack_core_proportions.append(core_proportion)\n",
    "\n",
    "    # If there are more than M nodes, select top M nodes and remove them\n",
    "    if C.number_of_nodes() > M:\n",
    "        nodes_sorted_by_degree = sorted(C.nodes, key=C.degree, reverse=True)\n",
    "        nodes_to_remove = nodes_sorted_by_degree[:M]\n",
    "        C.remove_nodes_from(nodes_to_remove)\n"
   ]
  },
  {
   "cell_type": "code",
   "execution_count": 38,
   "metadata": {},
   "outputs": [
    {
     "data": {
      "text/plain": [
       "[<matplotlib.lines.Line2D at 0x19cfc0795b0>]"
      ]
     },
     "execution_count": 38,
     "metadata": {},
     "output_type": "execute_result"
    },
    {
     "data": {
      "image/png": "[encoded data removed]",
      "text/plain": [
       "<Figure size 432x288 with 1 Axes>"
      ]
     },
     "metadata": {
      "needs_background": "light"
     },
     "output_type": "display_data"
    }
   ],
   "source": [
    "plt.title('Targeted attack')\n",
    "plt.xlabel('Number of nodes removed')\n",
    "plt.ylabel('Proportion of nodes in core')\n",
    "plt.plot(num_nodes_removed, targeted_attack_core_proportions, marker='o')\n"
   ]
  },
  {
   "cell_type": "code",
   "execution_count": 39,
   "metadata": {},
   "outputs": [
    {
     "data": {
      "text/plain": [
       "<matplotlib.legend.Legend at 0x19cfc0db7f0>"
      ]
     },
     "execution_count": 39,
     "metadata": {},
     "output_type": "execute_result"
    },
    {
     "data": {
      "image/png": "[encoded data removed]",
      "text/plain": [
       "<Figure size 432x288 with 1 Axes>"
      ]
     },
     "metadata": {
      "needs_background": "light"
     },
     "output_type": "display_data"
    }
   ],
   "source": [
    "plt.title('Random failure vs. targeted attack')\n",
    "plt.xlabel('Number of nodes removed')\n",
    "plt.ylabel('Proportion of nodes in core')\n",
    "plt.plot(num_nodes_removed, random_attack_core_proportions,marker='o', label='Failures')\n",
    "plt.plot(num_nodes_removed, targeted_attack_core_proportions,marker='^', label='Attacks')\n",
    "plt.legend()\n"
   ]
  }
 ],
 "metadata": {
  "interpreter": {
   "hash": "6656f061424c59475fe45ebd6aff05df7b2d6144abcb3abc03f16bb65e196645"
  },
  "kernelspec": {
   "display_name": "Python 3.9.7 ('base')",
   "language": "python",
   "name": "python3"
  },
  "language_info": {
   "codemirror_mode": {
    "name": "ipython",
    "version": 3
   },
   "file_extension": ".py",
   "mimetype": "text/x-python",
   "name": "python",
   "nbconvert_exporter": "python",
   "pygments_lexer": "ipython3",
   "version": "3.9.7"
  },
  "orig_nbformat": 4
 },
 "nbformat": 4,
 "nbformat_minor": 2
}
